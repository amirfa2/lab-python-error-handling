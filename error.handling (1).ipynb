{
 "cells": [
  {
   "cell_type": "code",
   "execution_count": 4,
   "id": "27cd6866-7572-471e-8a58-fbc1166c4d71",
   "metadata": {},
   "outputs": [
    {
     "name": "stdin",
     "output_type": "stream",
     "text": [
      "Enter the quantity of t-shirts available:  789\n",
      "Enter the quantity of mugs available:  1235\n",
      "Enter the quantity of hats available:  654\n",
      "Enter the quantity of books available:  -45\n"
     ]
    },
    {
     "name": "stdout",
     "output_type": "stream",
     "text": [
      "Error: Invalid quantity! Please enter a non-negative value.\n"
     ]
    },
    {
     "name": "stdin",
     "output_type": "stream",
     "text": [
      "Enter the quantity of books available:  450\n",
      "Enter the quantity of keychains available:  47\n",
      "Enter the number of customer orders:  4\n",
      "Enter the name of a product that a customer wants to order:  book\n",
      "Enter the name of a product that a customer wants to order:  har\n"
     ]
    },
    {
     "name": "stdout",
     "output_type": "stream",
     "text": [
      "Error: Invalid product name! har is not in the inventory.\n"
     ]
    },
    {
     "name": "stdin",
     "output_type": "stream",
     "text": [
      "Enter the name of a product that a customer wants to order:  hat\n",
      "Enter the name of a product that a customer wants to order:  mug\n",
      "Enter the name of a product that a customer wants to order:  hat\n"
     ]
    },
    {
     "name": "stdout",
     "output_type": "stream",
     "text": [
      "nOrder Statistics:\n",
      "Total Products Ordered: 4\n",
      "Percentage of Unique Products Ordered: 60.0%\n",
      "Updated Inventory:\n",
      "t-shirt: 789\n",
      "mug: 1234\n",
      "hat: 652\n",
      "book: 449\n",
      "keychain: 47\n"
     ]
    },
    {
     "name": "stdin",
     "output_type": "stream",
     "text": [
      "Enter the price of book:  hat\n"
     ]
    },
    {
     "name": "stdout",
     "output_type": "stream",
     "text": [
      "Error: could not convert string to float: 'hat'\n"
     ]
    },
    {
     "name": "stdin",
     "output_type": "stream",
     "text": [
      "Enter the price of book:  25\n",
      "Enter the price of hat:  20\n",
      "Enter the price of mug:  15\n",
      "Enter the price of hat:  10\n"
     ]
    },
    {
     "name": "stdout",
     "output_type": "stream",
     "text": [
      "\n",
      "Total Price: 70.00\n"
     ]
    }
   ],
   "source": [
    "def initialize_inventory(products):\n",
    "    \"\"\"\n",
    "    Initialize the inventory.\n",
    "    products: List of product names\n",
    "    :return: Dictionary with products and their quantities\n",
    "    \"\"\"\n",
    "    inventory = {}\n",
    "    for product in products:\n",
    "        valid_quantity = False\n",
    "        while not valid_quantity:\n",
    "            try:\n",
    "                quantity = int(input(f\"Enter the quantity of {product}s available: \"))\n",
    "                if quantity < 0:\n",
    "                    raise ValueError(\"Invalid quantity! Please enter a non-negative value.\")\n",
    "                valid_quantity = True\n",
    "            except ValueError as error:\n",
    "                print(f\"Error: {error}\")\n",
    "        inventory[product] = quantity\n",
    "    return inventory\n",
    "\n",
    "\n",
    "def get_customer_orders(inventory):\n",
    "    \"\"\"\n",
    "    Gather customer orders with error handling for invalid inputs.\n",
    "    :inventory: Dictionary of available products and their quantities\n",
    "    :return: List of products ordered\n",
    "    \"\"\"\n",
    "    valid_num_orders = False\n",
    "    while not valid_num_orders:\n",
    "        try:\n",
    "            num_orders = int(input(\"Enter the number of customer orders: \"))\n",
    "            if num_orders < 0:\n",
    "                raise ValueError(\"Number of orders cannot be negative.\")\n",
    "            valid_num_orders = True\n",
    "        except ValueError as error:\n",
    "            print(f\"Error: {error}\")\n",
    "\n",
    "    customer_orders = []\n",
    "    for _ in range(num_orders):\n",
    "        valid_product = False\n",
    "        while not valid_product:\n",
    "            try:\n",
    "                order = input(f\"Enter the name of a product that a customer wants to order: \").lower()\n",
    "                if order not in inventory:\n",
    "                    raise ValueError(f\"Invalid product name! {order} is not in the inventory.\")\n",
    "                if inventory[order] <= 0:\n",
    "                    raise ValueError(f\"{order} is out of stock.\")\n",
    "                valid_product = True\n",
    "            except ValueError as error:\n",
    "                print(f\"Error: {error}\")\n",
    "        customer_orders.append(order)\n",
    "    return customer_orders\n",
    "\n",
    "\n",
    "def calculate_total_price(customer_orders):\n",
    "    \"\"\"\n",
    "    Calculate the total price of the customer orders with error handling for invalid price inputs.\n",
    "    :customer_orders: List of products ordered by the customer\n",
    "    :return: Total price of all customer orders\n",
    "    \"\"\"\n",
    "    total_price = 0.0\n",
    "    for product in customer_orders:\n",
    "        valid_price = False\n",
    "        while not valid_price:\n",
    "            try:\n",
    "                price = float(input(f\"Enter the price of {product}: \"))\n",
    "                if price < 0:\n",
    "                    raise ValueError(\"Price cannot be negative. Please enter a valid price.\")\n",
    "                valid_price = True\n",
    "                total_price += price\n",
    "            except ValueError as error:\n",
    "                print(f\"Error: {error}\")\n",
    "    return total_price\n",
    "\n",
    "\n",
    "def update_inventory(customer_orders, inventory):\n",
    "    \"\"\"\n",
    "    Update the inventory based on customer orders and remove products with a quantity of zero.\n",
    "    :customer_orders: List of customer orders\n",
    "    :inventory: Dictionary containing products and their quantities\n",
    "    :return: Updated inventory with products having non-zero quantities\n",
    "    \"\"\"\n",
    "    for product in customer_orders:\n",
    "        if product in inventory and inventory[product] > 0:\n",
    "            inventory[product] -= 1\n",
    "\n",
    "    # Remove products with zero quantity using comprehension\n",
    "    inventory = {product: quantity for product, quantity in inventory.items() if quantity > 0}\n",
    "    return inventory\n",
    "\n",
    "\n",
    "def print_order_statistics(customer_orders, products):\n",
    "    \"\"\"\n",
    "    Print the order statistics.\n",
    "    :customer_orders: List of products ordered by the customer\n",
    "    :products: List of available products\n",
    "    :return: None\n",
    "    \"\"\"\n",
    "    total_products_ordered = len(customer_orders)\n",
    "    unique_products_ordered = len(set(customer_orders))\n",
    "    total_available_products = len(products)\n",
    "    percentage_ordered = (unique_products_ordered / total_available_products) * 100\n",
    "\n",
    "    print(\"Order Statistics:\")\n",
    "    print(f\"Total Products Ordered: {total_products_ordered}\")\n",
    "    print(f\"Percentage of Unique Products Ordered: {percentage_ordered:}%\")\n",
    "\n",
    "\n",
    "def print_updated_inventory(inventory):\n",
    "    \"\"\"\n",
    "    Print the updated inventory.\n",
    "    :inventory: Dictionary containing products and their quantities\n",
    "    :return: None\n",
    "    \"\"\"\n",
    "    print(\"Updated Inventory:\")\n",
    "    for product, quantity in inventory.items():\n",
    "        print(f\"{product}: {quantity}\")\n",
    "\n",
    "\n",
    "products = [\"t-shirt\", \"mug\", \"hat\", \"book\", \"keychain\"]\n",
    "\n",
    "    # Initialize inventory\n",
    "inventory = initialize_inventory(products)\n",
    "\n",
    "    # Get customer orders\n",
    "customer_orders = get_customer_orders(inventory)\n",
    "\n",
    "    # Update inventory based on customer orders\n",
    "inventory = update_inventory(customer_orders, inventory)\n",
    "\n",
    "    # Print order statistics\n",
    "print_order_statistics(customer_orders, products)\n",
    "\n",
    "    # Print updated inventory\n",
    "print_updated_inventory(inventory)\n",
    "\n",
    "    # Calculate and print total price\n",
    "total_price = calculate_total_price(customer_orders)\n",
    "print(f\"\\nTotal Price: {total_price:}\")\n"
   ]
  },
  {
   "cell_type": "code",
   "execution_count": null,
   "id": "5f53d444-d32a-4060-8397-d29dd50330b4",
   "metadata": {},
   "outputs": [],
   "source": []
  }
 ],
 "metadata": {
  "kernelspec": {
   "display_name": "Python 3",
   "language": "python",
   "name": "python3"
  },
  "language_info": {
   "codemirror_mode": {
    "name": "ipython",
    "version": 3
   },
   "file_extension": ".py",
   "mimetype": "text/x-python",
   "name": "python",
   "nbconvert_exporter": "python",
   "pygments_lexer": "ipython3",
   "version": "3.8.8"
  }
 },
 "nbformat": 4,
 "nbformat_minor": 5
}
